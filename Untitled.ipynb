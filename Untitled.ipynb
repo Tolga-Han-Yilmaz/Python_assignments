{
 "cells": [
  {
   "cell_type": "code",
   "execution_count": null,
   "id": "3aaea37f",
   "metadata": {},
   "outputs": [],
   "source": [
    "a = {\n",
    "    \"name\" : \"Tolga\",\n",
    "    \"password\" : 12345\n",
    "}\n",
    "b = input(\"Please enter your username : \")\n",
    "a_name = a.get(\"name\")\n",
    "a_pw = a.get(\"password\")\n",
    "\n",
    "if b == a[\"name\"] :\n",
    "    print(f\"Hello, {a_name}! The password is : {a_pw}\")\n",
    "else:\n",
    "    print(f\"Hello, {a_name}! See you later.\")"
   ]
  }
 ],
 "metadata": {
  "kernelspec": {
   "display_name": "Python 3",
   "language": "python",
   "name": "python3"
  },
  "language_info": {
   "codemirror_mode": {
    "name": "ipython",
    "version": 3
   },
   "file_extension": ".py",
   "mimetype": "text/x-python",
   "name": "python",
   "nbconvert_exporter": "python",
   "pygments_lexer": "ipython3",
   "version": "3.8.8"
  }
 },
 "nbformat": 4,
 "nbformat_minor": 5
}
